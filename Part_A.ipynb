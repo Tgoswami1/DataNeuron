{
 "cells": [
  {
   "cell_type": "markdown",
   "id": "c4dc1adb-2edd-432a-a2f4-71c908696005",
   "metadata": {},
   "source": [
    "### Part A\n"
   ]
  },
  {
   "cell_type": "code",
   "execution_count": 1,
   "id": "008f1686-3649-4201-bf6e-470f5693b128",
   "metadata": {},
   "outputs": [
    {
     "name": "stdout",
     "output_type": "stream",
     "text": [
      "First 5 rows of the dataset:\n",
      "                                               text1  \\\n",
      "0  broadband challenges tv viewing the number of ...   \n",
      "1  rap boss arrested over drug find rap mogul mar...   \n",
      "2  player burn-out worries robinson england coach...   \n",
      "3  hearts of oak 3-2 cotonsport hearts of oak set...   \n",
      "4  sir paul rocks super bowl crowds sir paul mcca...   \n",
      "\n",
      "                                               text2  \n",
      "0  gardener wins double in glasgow britain s jaso...  \n",
      "1  amnesty chief laments war failure the lack of ...  \n",
      "2  hanks greeted at wintry premiere hollywood sta...  \n",
      "3  redford s vision of sundance despite sporting ...  \n",
      "4  mauresmo opens with victory in la amelie maure...  \n",
      "\n",
      "Dataset Info:\n",
      "<class 'pandas.core.frame.DataFrame'>\n",
      "RangeIndex: 3000 entries, 0 to 2999\n",
      "Data columns (total 2 columns):\n",
      " #   Column  Non-Null Count  Dtype \n",
      "---  ------  --------------  ----- \n",
      " 0   text1   3000 non-null   object\n",
      " 1   text2   3000 non-null   object\n",
      "dtypes: object(2)\n",
      "memory usage: 47.0+ KB\n",
      "None\n",
      "\n",
      "Missing Values:\n",
      "text1    0\n",
      "text2    0\n",
      "dtype: int64\n"
     ]
    }
   ],
   "source": [
    "import pandas as pd\n",
    "\n",
    "# Load the dataset\n",
    "file_path = 'DataNeuron_Text_Similarity.csv'\n",
    "df = pd.read_csv(file_path)\n",
    "\n",
    "# Display the first few rows\n",
    "print(\"First 5 rows of the dataset:\")\n",
    "print(df.head())\n",
    "\n",
    "# Check basic information about the dataset\n",
    "print(\"\\nDataset Info:\")\n",
    "print(df.info())\n",
    "\n",
    "# Check for missing values\n",
    "print(\"\\nMissing Values:\")\n",
    "print(df.isnull().sum())\n"
   ]
  },
  {
   "cell_type": "code",
   "execution_count": 2,
   "id": "060fe342-c78d-4158-a56a-d10767d49b82",
   "metadata": {},
   "outputs": [
    {
     "name": "stderr",
     "output_type": "stream",
     "text": [
      "[nltk_data] Downloading package punkt to\n",
      "[nltk_data]     C:\\Users\\91908\\AppData\\Roaming\\nltk_data...\n",
      "[nltk_data]   Package punkt is already up-to-date!\n",
      "[nltk_data] Downloading package stopwords to\n",
      "[nltk_data]     C:\\Users\\91908\\AppData\\Roaming\\nltk_data...\n",
      "[nltk_data]   Package stopwords is already up-to-date!\n"
     ]
    },
    {
     "name": "stdout",
     "output_type": "stream",
     "text": [
      "Preprocessing complete. Sample output:\n",
      "                                         text1_clean  \\\n",
      "0  broadband challeng tv view number european bro...   \n",
      "1  rap boss arrest drug find rap mogul marion sug...   \n",
      "2  player burnout worri robinson england coach an...   \n",
      "3  heart oak cotonsport heart oak set ghanaian co...   \n",
      "4  sir paul rock super bowl crowd sir paul mccart...   \n",
      "\n",
      "                                         text2_clean  \n",
      "0  garden win doubl glasgow britain jason garden ...  \n",
      "1  amnesti chief lament war failur lack public ou...  \n",
      "2  hank greet wintri premier hollywood star tom h...  \n",
      "3  redford vision sundanc despit sport corduroy c...  \n",
      "4  mauresmo open victori la ameli mauresmo maria ...  \n"
     ]
    }
   ],
   "source": [
    "import re\n",
    "import nltk\n",
    "from nltk.corpus import stopwords\n",
    "from nltk.tokenize import word_tokenize\n",
    "from nltk.stem import PorterStemmer\n",
    "\n",
    "# Download necessary NLTK data\n",
    "nltk.download('punkt')\n",
    "nltk.download('stopwords')\n",
    "\n",
    "# Initialize stemmer and stopwords\n",
    "stemmer = PorterStemmer()\n",
    "stop_words = set(stopwords.words('english'))\n",
    "\n",
    "# Preprocessing function\n",
    "def preprocess_text(text):\n",
    "    # Lowercase the text\n",
    "    text = text.lower()\n",
    "    # Remove special characters and numbers\n",
    "    text = re.sub(r'[^a-zA-Z\\s]', '', text)\n",
    "    # Tokenization\n",
    "    tokens = word_tokenize(text)\n",
    "    # Remove stopwords and apply stemming\n",
    "    tokens = [stemmer.stem(word) for word in tokens if word not in stop_words]\n",
    "    return ' '.join(tokens)\n",
    "\n",
    "# Apply preprocessing to both text columns\n",
    "df['text1_clean'] = df['text1'].apply(preprocess_text)\n",
    "df['text2_clean'] = df['text2'].apply(preprocess_text)\n",
    "\n",
    "print(\"Preprocessing complete. Sample output:\")\n",
    "print(df[['text1_clean', 'text2_clean']].head())\n"
   ]
  },
  {
   "cell_type": "code",
   "execution_count": 3,
   "id": "b25e42b1-7d43-49d6-b251-b64103a73623",
   "metadata": {},
   "outputs": [
    {
     "name": "stderr",
     "output_type": "stream",
     "text": [
      "C:\\Users\\91908\\anaconda3\\envs\\venv_38\\lib\\site-packages\\sentence_transformers\\cross_encoder\\CrossEncoder.py:11: TqdmExperimentalWarning: Using `tqdm.autonotebook.tqdm` in notebook mode. Use `tqdm.tqdm` instead to force console mode (e.g. in jupyter console)\n",
      "  from tqdm.autonotebook import tqdm, trange\n"
     ]
    },
    {
     "name": "stdout",
     "output_type": "stream",
     "text": [
      "Loading BERT model...\n"
     ]
    },
    {
     "name": "stderr",
     "output_type": "stream",
     "text": [
      "C:\\Users\\91908\\anaconda3\\envs\\venv_38\\lib\\site-packages\\transformers\\tokenization_utils_base.py:1601: FutureWarning: `clean_up_tokenization_spaces` was not set. It will be set to `True` by default. This behavior will be depracted in transformers v4.45, and will be then set to `False` by default. For more details check this issue: https://github.com/huggingface/transformers/issues/31884\n",
      "  warnings.warn(\n"
     ]
    },
    {
     "name": "stdout",
     "output_type": "stream",
     "text": [
      "Model loaded successfully.\n",
      "Initial DataFrame Info:\n",
      "<class 'pandas.core.frame.DataFrame'>\n",
      "RangeIndex: 3000 entries, 0 to 2999\n",
      "Data columns (total 4 columns):\n",
      " #   Column       Non-Null Count  Dtype \n",
      "---  ------       --------------  ----- \n",
      " 0   text1        3000 non-null   object\n",
      " 1   text2        3000 non-null   object\n",
      " 2   text1_clean  3000 non-null   object\n",
      " 3   text2_clean  3000 non-null   object\n",
      "dtypes: object(4)\n",
      "memory usage: 93.9+ KB\n",
      "None\n",
      "                                               text1  \\\n",
      "0  broadband challenges tv viewing the number of ...   \n",
      "1  rap boss arrested over drug find rap mogul mar...   \n",
      "2  player burn-out worries robinson england coach...   \n",
      "3  hearts of oak 3-2 cotonsport hearts of oak set...   \n",
      "4  sir paul rocks super bowl crowds sir paul mcca...   \n",
      "\n",
      "                                               text2  \\\n",
      "0  gardener wins double in glasgow britain s jaso...   \n",
      "1  amnesty chief laments war failure the lack of ...   \n",
      "2  hanks greeted at wintry premiere hollywood sta...   \n",
      "3  redford s vision of sundance despite sporting ...   \n",
      "4  mauresmo opens with victory in la amelie maure...   \n",
      "\n",
      "                                         text1_clean  \\\n",
      "0  broadband challeng tv view number european bro...   \n",
      "1  rap boss arrest drug find rap mogul marion sug...   \n",
      "2  player burnout worri robinson england coach an...   \n",
      "3  heart oak cotonsport heart oak set ghanaian co...   \n",
      "4  sir paul rock super bowl crowd sir paul mccart...   \n",
      "\n",
      "                                         text2_clean  \n",
      "0  garden win doubl glasgow britain jason garden ...  \n",
      "1  amnesti chief lament war failur lack public ou...  \n",
      "2  hank greet wintri premier hollywood star tom h...  \n",
      "3  redford vision sundanc despit sport corduroy c...  \n",
      "4  mauresmo open victori la ameli mauresmo maria ...  \n",
      "Calculating BERT Similarity for each row...\n",
      "Similarity Calculation Complete.\n",
      "Sample Output:\n",
      "                                         text1_clean  \\\n",
      "0  broadband challeng tv view number european bro...   \n",
      "1  rap boss arrest drug find rap mogul marion sug...   \n",
      "2  player burnout worri robinson england coach an...   \n",
      "3  heart oak cotonsport heart oak set ghanaian co...   \n",
      "4  sir paul rock super bowl crowd sir paul mccart...   \n",
      "\n",
      "                                         text2_clean  bert_similarity  \n",
      "0  garden win doubl glasgow britain jason garden ...         0.232777  \n",
      "1  amnesti chief lament war failur lack public ou...         0.320726  \n",
      "2  hank greet wintri premier hollywood star tom h...         0.275782  \n",
      "3  redford vision sundanc despit sport corduroy c...         0.117150  \n",
      "4  mauresmo open victori la ameli mauresmo maria ...         0.336709  \n"
     ]
    }
   ],
   "source": [
    "import torch\n",
    "from sentence_transformers import SentenceTransformer, util\n",
    "import pandas as pd\n",
    "\n",
    "# Load pre-trained BERT model (Sentence-BERT)\n",
    "print(\"Loading BERT model...\")\n",
    "model = SentenceTransformer('sentence-transformers/all-MiniLM-L6-v2')\n",
    "print(\"Model loaded successfully.\")\n",
    "\n",
    "\n",
    "# Debugging: Check initial DataFrame state\n",
    "print(\"Initial DataFrame Info:\")\n",
    "print(df.info())\n",
    "print(df.head())\n",
    "\n",
    "# Generate BERT embeddings\n",
    "def get_embeddings(text1, text2):\n",
    "    try:\n",
    "        embeddings1 = model.encode(text1, convert_to_tensor=True)\n",
    "        embeddings2 = model.encode(text2, convert_to_tensor=True)\n",
    "        return embeddings1, embeddings2\n",
    "    except Exception as e:\n",
    "        print(f\"Error generating embeddings for: {text1}, {text2}\")\n",
    "        print(f\"Exception: {e}\")\n",
    "        return None, None\n",
    "\n",
    "# Calculate Cosine Similarity\n",
    "def calculate_similarity(text1, text2):\n",
    "    emb1, emb2 = get_embeddings(text1, text2)\n",
    "    if emb1 is None or emb2 is None:\n",
    "        return None\n",
    "    try:\n",
    "        similarity = util.pytorch_cos_sim(emb1, emb2)\n",
    "        return similarity.item()\n",
    "    except Exception as e:\n",
    "        print(f\"Error calculating similarity: {e}\")\n",
    "        return None\n",
    "\n",
    "# Compute similarity for all text pairs with error handling\n",
    "print(\"Calculating BERT Similarity for each row...\")\n",
    "try:\n",
    "    df['bert_similarity'] = df.apply(lambda row: calculate_similarity(row['text1_clean'], row['text2_clean']), axis=1)\n",
    "    print(\"Similarity Calculation Complete.\")\n",
    "except KeyError as e:\n",
    "    print(f\"KeyError: {e}. Please check column names.\")\n",
    "except Exception as e:\n",
    "    print(f\"Unexpected error: {e}\")\n",
    "\n",
    "# Debugging: Check if 'bert_similarity' column was created\n",
    "if 'bert_similarity' in df.columns:\n",
    "    print(\"Sample Output:\")\n",
    "    print(df[['text1_clean', 'text2_clean', 'bert_similarity']].head())\n",
    "else:\n",
    "    print(\"Error: 'bert_similarity' column not found. Check previous steps.\")\n"
   ]
  },
  {
   "cell_type": "code",
   "execution_count": 4,
   "id": "d625a288-d05a-47f2-bd90-50431ed3a22c",
   "metadata": {},
   "outputs": [
    {
     "data": {
      "image/png": "[encoded data removed]",
      "text/plain": [
       "<Figure size 640x480 with 1 Axes>"
      ]
     },
     "metadata": {},
     "output_type": "display_data"
    }
   ],
   "source": [
    "import matplotlib.pyplot as plt\n",
    "\n",
    "plt.hist(df['bert_similarity'].dropna(), bins=20, color='skyblue', edgecolor='black')\n",
    "plt.title('Distribution of BERT Similarity Scores')\n",
    "plt.xlabel('Similarity Score')\n",
    "plt.ylabel('Frequency')\n",
    "plt.show()\n"
   ]
  },
  {
   "cell_type": "code",
   "execution_count": 5,
   "id": "715f7df9-aa37-46ba-9793-f5c0a7a3ce2d",
   "metadata": {},
   "outputs": [
    {
     "name": "stdout",
     "output_type": "stream",
     "text": [
      "Low Similarity Examples:\n",
      "                                          text1_clean  \\\n",
      "3   heart oak cotonsport heart oak set ghanaian co...   \n",
      "5   india deport bollywood actress india order dep...   \n",
      "7   aid climat top davo agenda climat chang fight ...   \n",
      "8   kennedi predict bigger turnout voter pent pass...   \n",
      "23  imf cut german growth estim intern monetari fu...   \n",
      "\n",
      "                                          text2_clean  bert_similarity  \n",
      "3   redford vision sundanc despit sport corduroy c...         0.117150  \n",
      "5   foster buy stake winemak australian brewer fos...         0.136722  \n",
      "7   howl help boost japan cinema japan box offic r...         0.188884  \n",
      "8   ocean twelv raid box offic ocean twelv crime c...         0.138088  \n",
      "23  incred win anim award incred movi beaten shrek...         0.052865  \n",
      "High Similarity Examples:\n",
      "                                            text1_clean  \\\n",
      "2304  spur sign iceland u star tottenham prime snap ...   \n",
      "2820  banker lose sexism claim former execut london ...   \n",
      "\n",
      "                                            text2_clean  bert_similarity  \n",
      "2304  spur sign iceland u star tottenham prime snap ...              1.0  \n",
      "2820  banker lose sexism claim former execut london ...              1.0  \n"
     ]
    }
   ],
   "source": [
    "low_scores = df[df['bert_similarity'] < 0.2][['text1_clean', 'text2_clean', 'bert_similarity']]\n",
    "print(\"Low Similarity Examples:\")\n",
    "print(low_scores.head())\n",
    "\n",
    "high_scores = df[df['bert_similarity'] > 0.8][['text1_clean', 'text2_clean', 'bert_similarity']]\n",
    "print(\"High Similarity Examples:\")\n",
    "print(high_scores.head())\n",
    "\n"
   ]
  },
  {
   "cell_type": "code",
   "execution_count": 6,
   "id": "241bbbc1-c8d0-4f04-a0d2-f56a3e194cb4",
   "metadata": {},
   "outputs": [
    {
     "name": "stdout",
     "output_type": "stream",
     "text": [
      "Results saved to 'bert_similarity_results.csv'\n"
     ]
    }
   ],
   "source": [
    "df.to_csv('bert_similarity_results.csv', index=False)\n",
    "print(\"Results saved to 'bert_similarity_results.csv'\")\n"
   ]
  },
  {
   "cell_type": "code",
   "execution_count": 8,
   "id": "3aa3b877-dac7-4a7c-a193-d091d3498bdf",
   "metadata": {},
   "outputs": [
    {
     "name": "stdout",
     "output_type": "stream",
     "text": [
      "                                         text1_clean  \\\n",
      "0  broadband challeng tv view number european bro...   \n",
      "1  rap boss arrest drug find rap mogul marion sug...   \n",
      "2  player burnout worri robinson england coach an...   \n",
      "3  heart oak cotonsport heart oak set ghanaian co...   \n",
      "4  sir paul rock super bowl crowd sir paul mccart...   \n",
      "\n",
      "                                         text2_clean  bert_similarity  \\\n",
      "0  garden win doubl glasgow britain jason garden ...         0.232777   \n",
      "1  amnesti chief lament war failur lack public ou...         0.320726   \n",
      "2  hank greet wintri premier hollywood star tom h...         0.275782   \n",
      "3  redford vision sundanc despit sport corduroy c...         0.117150   \n",
      "4  mauresmo open victori la ameli mauresmo maria ...         0.336709   \n",
      "\n",
      "  similarity_label  \n",
      "0      Not Similar  \n",
      "1      Not Similar  \n",
      "2      Not Similar  \n",
      "3      Not Similar  \n",
      "4      Not Similar  \n"
     ]
    }
   ],
   "source": [
    "threshold = 0.7\n",
    "\n",
    "# Classify based on similarity score\n",
    "df['similarity_label'] = df['bert_similarity'].apply(lambda x: 'Similar' if x >= threshold else 'Not Similar')\n",
    "\n",
    "print(df[['text1_clean', 'text2_clean', 'bert_similarity', 'similarity_label']].head())\n"
   ]
  },
  {
   "cell_type": "code",
   "execution_count": 9,
   "id": "f6aaf85e-7efb-4af2-bc59-df9fff624190",
   "metadata": {},
   "outputs": [
    {
     "name": "stdout",
     "output_type": "stream",
     "text": [
      "similarity_label\n",
      "Not Similar    2994\n",
      "Similar           6\n",
      "Name: count, dtype: int64\n"
     ]
    }
   ],
   "source": [
    "print(df['similarity_label'].value_counts())\n"
   ]
  },
  {
   "cell_type": "code",
   "execution_count": 10,
   "id": "73703d7b-52e7-4d6f-942c-a4f48909dc1b",
   "metadata": {},
   "outputs": [
    {
     "name": "stderr",
     "output_type": "stream",
     "text": [
      "C:\\Users\\91908\\AppData\\Local\\Temp\\ipykernel_20584\\2719939017.py:3: FutureWarning: \n",
      "\n",
      "Passing `palette` without assigning `hue` is deprecated and will be removed in v0.14.0. Assign the `x` variable to `hue` and set `legend=False` for the same effect.\n",
      "\n",
      "  sns.countplot(x='similarity_label', data=df, palette='viridis')\n"
     ]
    },
    {
     "data": {
      "image/png": "[encoded data removed]",
      "text/plain": [
       "<Figure size 640x480 with 1 Axes>"
      ]
     },
     "metadata": {},
     "output_type": "display_data"
    }
   ],
   "source": [
    "import seaborn as sns\n",
    "\n",
    "sns.countplot(x='similarity_label', data=df, palette='viridis')\n",
    "plt.title('Count of Similar vs Not Similar Text Pairs')\n",
    "plt.show()\n"
   ]
  }
 ],
 "metadata": {
  "kernelspec": {
   "display_name": "Python 3 (ipykernel)",
   "language": "python",
   "name": "python3"
  },
  "language_info": {
   "codemirror_mode": {
    "name": "ipython",
    "version": 3
   },
   "file_extension": ".py",
   "mimetype": "text/x-python",
   "name": "python",
   "nbconvert_exporter": "python",
   "pygments_lexer": "ipython3",
   "version": "3.8.19"
  }
 },
 "nbformat": 4,
 "nbformat_minor": 5
}
